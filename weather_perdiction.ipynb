{
  "nbformat": 4,
  "nbformat_minor": 0,
  "metadata": {
    "colab": {
      "private_outputs": true,
      "provenance": [],
      "cell_execution_strategy": "setup",
      "gpuType": "T4",
      "authorship_tag": "ABX9TyOxYoB1W8THvdxQGxRG07SN",
      "include_colab_link": true
    },
    "kernelspec": {
      "name": "python3",
      "display_name": "Python 3"
    },
    "language_info": {
      "name": "python"
    },
    "accelerator": "GPU"
  },
  "cells": [
    {
      "cell_type": "markdown",
      "metadata": {
        "id": "view-in-github",
        "colab_type": "text"
      },
      "source": [
        "<a href=\"https://colab.research.google.com/github/polydeuces32/Blockchain-Development-Resources/blob/main/weather_perdiction.ipynb\" target=\"_parent\"><img src=\"https://colab.research.google.com/assets/colab-badge.svg\" alt=\"Open In Colab\"/></a>"
      ]
    },
    {
      "cell_type": "code",
      "source": [
        "# Install required libraries\n",
        "!pip install pandas matplotlib statsmodels\n",
        "\n",
        "# Import libraries\n",
        "import pandas as pd\n",
        "import matplotlib.pyplot as plt\n",
        "from statsmodels.tsa.statespace.sarimax import SARIMAX\n",
        "from statsmodels.tsa.stattools import adfuller\n",
        "from statsmodels.graphics.tsaplots import plot_acf, plot_pacf\n"
      ],
      "metadata": {
        "id": "3gR5dFDXl5Nd"
      },
      "execution_count": null,
      "outputs": []
    },
    {
      "cell_type": "markdown",
      "source": [],
      "metadata": {
        "id": "akGCyPWynXio"
      }
    },
    {
      "cell_type": "code",
      "source": [
        "# Sample weather dataset URL (Replace with your dataset URL or file path)\n",
        "url = 'https://raw.githubusercontent.com/jbrownlee/Datasets/master/daily-min-temperatures.csv'\n",
        "\n",
        "# Load dataset\n",
        "df = pd.read_csv(url, parse_dates=['Date'], index_col='Date')\n",
        "\n",
        "# Display the first few rows of the dataset\n",
        "df.head()\n"
      ],
      "metadata": {
        "id": "EyfsLlOPl_4y"
      },
      "execution_count": null,
      "outputs": []
    },
    {
      "cell_type": "code",
      "source": [
        "# Plot the time series data\n",
        "plt.figure(figsize=(10, 6))\n",
        "plt.plot(df, label='Daily Minimum Temperature')\n",
        "plt.title('Daily Minimum Temperature Time Series')\n",
        "plt.xlabel('Date')\n",
        "plt.ylabel('Temperature')\n",
        "plt.legend()\n",
        "plt.show()\n"
      ],
      "metadata": {
        "id": "00YiW1ehmJI3"
      },
      "execution_count": null,
      "outputs": []
    },
    {
      "cell_type": "code",
      "source": [
        "# Differencing the time series\n",
        "df_diff = df.diff().dropna()\n",
        "\n",
        "# Check stationarity again\n",
        "result = adfuller(df_diff['Temp'])\n",
        "print('ADF Statistic after differencing:', result[0])\n",
        "print('p-value after differencing:', result[1])\n",
        "\n",
        "# Plot the differenced series\n",
        "plt.figure(figsize=(10, 6))\n",
        "plt.plot(df_diff, label='Differenced Series')\n",
        "plt.title('Differenced Series')\n",
        "plt.xlabel('Date')\n",
        "plt.ylabel('Differenced Temperature')\n",
        "plt.legend()\n",
        "plt.show()\n"
      ],
      "metadata": {
        "id": "ZckVpC3dmaqp"
      },
      "execution_count": null,
      "outputs": []
    },
    {
      "cell_type": "code",
      "source": [
        "# Plot ACF and PACF\n",
        "plot_acf(df_diff, lags=30)\n",
        "plot_pacf(df_diff, lags=30)\n",
        "plt.show()\n"
      ],
      "metadata": {
        "id": "EZfd0_dWmjNn"
      },
      "execution_count": null,
      "outputs": []
    },
    {
      "cell_type": "code",
      "source": [
        "# Fit ARIMA/SARIMA model\n",
        "model = SARIMAX(df, order=(1, 1, 1), seasonal_order=(1, 1, 1, 12))\n",
        "model_fit = model.fit(disp=False)\n",
        "print(model_fit.summary())\n"
      ],
      "metadata": {
        "id": "L_zCBp53mnAV"
      },
      "execution_count": null,
      "outputs": []
    },
    {
      "cell_type": "code",
      "source": [
        "# Make predictions\n",
        "predictions = model_fit.predict(start=len(df), end=len(df) + 30, dynamic=False)\n",
        "\n",
        "# Plot predictions\n",
        "plt.figure(figsize=(10, 6))\n",
        "plt.plot(df, label='Observed')\n",
        "plt.plot(predictions, label='Forecast', color='red')\n",
        "plt.title('Weather Forecast')\n",
        "plt.xlabel('Date')\n",
        "plt.ylabel('Temperature')\n",
        "plt.legend()\n",
        "plt.show()\n"
      ],
      "metadata": {
        "id": "2z3kexg3m3U2"
      },
      "execution_count": null,
      "outputs": []
    },
    {
      "cell_type": "code",
      "source": [
        "!pip install requests\n"
      ],
      "metadata": {
        "id": "obB8fxzerD2M"
      },
      "execution_count": null,
      "outputs": []
    },
    {
      "cell_type": "code",
      "source": [
        "import requests\n",
        "import pandas as pd\n",
        "import matplotlib.pyplot as plt\n",
        "from datetime import datetime, timedelta\n",
        "\n",
        "# Replace with your actual API key from OpenWeatherMap\n",
        "api_key = '82ca01b918d212c5df3bc7bcecdaec4a'\n",
        "\n",
        "# Define the city and the date range\n",
        "city = 'New York City'\n",
        "start_date = datetime(2024, 6, 10)  # Manually specify the start date\n",
        "end_date = datetime(2024, 6, 17)    # Manually specify the end date\n",
        "\n",
        "# Calculate the number of days in the range\n",
        "num_days = (end_date - start_date).days\n",
        "\n",
        "# Create a list to hold the weather data\n",
        "weather_data = []\n",
        "\n",
        "# Loop to simulate fetching weather data for multiple days\n",
        "for i in range(num_days + 1):\n",
        "    date = start_date + timedelta(days=i)\n",
        "    formatted_date = date.strftime('%Y-%m-%d')\n",
        "\n",
        "    # Fetch the current weather data\n",
        "    url = f'http://api.openweathermap.org/data/2.5/weather?q={city}&appid={api_key}&units=metric'\n",
        "    response = requests.get(url)\n",
        "    data = response.json()\n",
        "\n",
        "    # Check if 'main' key exists in the response data\n",
        "    if 'main' in data:\n",
        "        # Extract the current temperature\n",
        "        current_temp = data['main']['temp_min']\n",
        "\n",
        "        # Append the data to the list\n",
        "        weather_data.append({\n",
        "            'Date': formatted_date,\n",
        "            'MinTemp': current_temp\n",
        "        })\n",
        "    else:\n",
        "        print(f\"No weather data available for {city} on {formatted_date}\")\n",
        "\n",
        "# Convert the list to a DataFrame\n",
        "df = pd.DataFrame(weather_data)\n",
        "\n",
        "# Plotting the data\n",
        "plt.figure(figsize=(10, 6))\n",
        "plt.plot(df['Date'], df['MinTemp'], marker='o', linestyle='-', color='b')\n",
        "plt.title(f'Daily Minimum Temperature in {city}')\n",
        "plt.xlabel('Date')\n",
        "plt.ylabel('Minimum Temperature (°C)')\n",
        "plt.xticks(rotation=45)\n",
        "plt.grid(True)\n",
        "plt.tight_layout()\n",
        "plt.show()\n"
      ],
      "metadata": {
        "id": "1P0B5MEk51m5"
      },
      "execution_count": null,
      "outputs": []
    }
  ]
}